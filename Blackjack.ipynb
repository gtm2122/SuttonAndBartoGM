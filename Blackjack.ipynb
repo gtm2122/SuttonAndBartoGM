{
 "cells": [
  {
   "cell_type": "code",
   "execution_count": 25,
   "metadata": {},
   "outputs": [],
   "source": [
    "import numpy as np\n",
    "import os\n",
    "import random"
   ]
  },
  {
   "cell_type": "code",
   "execution_count": 319,
   "metadata": {},
   "outputs": [],
   "source": [
    "# point_map = {}\n",
    "class Agent():\n",
    "    def __init__(self):\n",
    "        self.points = 0\n",
    "        self.cards = ['A'] + [str(i) for i in range(2,11)] + ['10']*3\n",
    "        self.usable_ace = False\n",
    "    def action(self):\n",
    "        if self.points<20:\n",
    "            # if random.random()>0.5:\n",
    "            # print(random.randint(0,len(self.cards)))\n",
    "            # print(self.cards)\n",
    "            card_sampled = self.cards[np.random.randint(0,len(self.cards))]\n",
    "            if card_sampled == 'A' and self.points + 11 <=21:\n",
    "                self.points += 11\n",
    "                self.usable_ace = True\n",
    "            elif card_sampled=='A' and self.points + 11 > 21:\n",
    "                self.points += 1\n",
    "                self.usable_ace = False\n",
    "            else:\n",
    "                self.usable_ace = False\n",
    "                self.points += int(card_sampled)\n",
    "            return card_sampled\n",
    "        else:\n",
    "            return 'S'\n",
    "    def check(self):\n",
    "        if self.points <=21:\n",
    "            return False\n",
    "        return True\n",
    "              \n",
    "\n",
    "class Dealer():\n",
    "    def __init__(self):\n",
    "        self.points = 0\n",
    "        self.cards = ['A'] + [str(i) for i in range(2,11)] + ['10']*3\n",
    "        self.showing_card = None\n",
    "    def action(self):\n",
    "        if self.points<17:\n",
    "            card_sampled = self.cards[np.random.randint(0,len(self.cards))]\n",
    "            self.showing_card = card_sampled\n",
    "            if card_sampled == 'A' and self.points + 11 <=21:\n",
    "                self.points += 11\n",
    "            \n",
    "            elif card_sampled=='A' and self.points + 11 > 21:\n",
    "                self.points += 1\n",
    "            else:\n",
    "                self.points += int(card_sampled)\n",
    "            return card_sampled        \n",
    "        else:\n",
    "            return 'S'\n",
    "        \n",
    "    def check(self):\n",
    "        if self.points >21:\n",
    "            return 'B'\n",
    "        elif self.points == 21:\n",
    "            return 'W'\n",
    "        else:\n",
    "            return True\n",
    "        \n",
    "        \n",
    "## continue coding the black jack env by simulating the moves for a fixed trajectory length *from 6:56 PM yesterday\n",
    "# class dealer(agent):\n",
    "class blackjack():\n",
    "    def __init__(self,dealer,agent):\n",
    "        # self.cards = ['A'] + [str(i) for i in range(2,11)] + ['10']*3\n",
    "        self.game_state = None\n",
    "        self.turn_flag = 0\n",
    "        self.turn = ['A','D']\n",
    "        \n",
    "        self.dealer = dealer\n",
    "        self.agent = agent\n",
    "\n",
    "        self.players = {'D':self.dealer,'A':self.agent}\n",
    "\n",
    "    def hit(self):\n",
    "        return self.cards[np.random.randint(0,len(self.cards))]        \n",
    "    # player cards sum, usable ace yes/no, dealer card showing\n",
    "\n",
    "    def stick(self):\n",
    "        self.turn_flag+=1\n",
    "        self.turn_flag%=2\n",
    "        return self.turn[self.turn_flag]\n",
    "    \n",
    "    def episode(self):\n",
    "        T = 30\n",
    "        t = 0\n",
    "        self.ep = []\n",
    "        # initial cards\n",
    "        CD = self.players['D'].action()\n",
    "        CA = self.players['A'].action()\n",
    "        # print(CA,CD)\n",
    "        self.ep.append([self.players['A'].points,\n",
    "                self.players['D'].showing_card,\n",
    "                self.players['A'].usable_ace])\n",
    "\n",
    "        while t<T:\n",
    "            t+=1\n",
    "            \n",
    "            # print('time step = ',t,'   A',self.players['A'].points,'D',self.players['D'].points)\n",
    "            if self.players['A'].points == 21 and self.players['D'].points<21:\n",
    "                # self.ep.append([self.players['A'].points,\n",
    "                #             self.players['D'].showing_card,\n",
    "                #             self.players['A'].usable_ace])\n",
    "                # print('1')\n",
    "                return +1\n",
    "            \n",
    "            if self.players['D'].points>21:\n",
    "                # self.ep.append([self.players['A'].points,\n",
    "                #                 self.players['D'].showing_card,\n",
    "                #                 self.players['A'].usable_ace])\n",
    "\n",
    "                # print('2')\n",
    "                return +1\n",
    "\n",
    "            elif self.players['D'].points==21 and self.players['A'].points==21:\n",
    "                # self.ep.append([self.players['A'].points,\n",
    "                #                 self.players['D'].showing_card,\n",
    "                #                 self.players['A'].usable_ace])\n",
    "                # print('3')      \n",
    "                return 0\n",
    "\n",
    "            elif self.players['D'].points==21 and self.players['A'].points<21:\n",
    "                # self.ep.append([self.players['A'].points,\n",
    "                #                 self.players['D'].showing_card,\n",
    "                #                 self.players['A'].usable_ace])\n",
    "                # print('4') \n",
    "                return -1\n",
    "\n",
    "            if not (self.players['A'].check()):\n",
    "                \n",
    "                # first the player will move then the dealer \n",
    "                player = self.players[self.turn[self.turn_flag]]\n",
    "                action = player.action()\n",
    "                # print('action = ',action)\n",
    "                if action == 'S':\n",
    "                    self.stick()\n",
    "                    self.ep.append([self.players['A'].points,\n",
    "                                self.players['D'].showing_card,\n",
    "                                self.players['A'].usable_ace])\n",
    "\n",
    "                else:\n",
    "                    self.ep.append([self.players['A'].points,\n",
    "                                self.players['D'].showing_card,\n",
    "                                self.players['A'].usable_ace])\n",
    "\n",
    "            else:\n",
    "                # self.ep.append([self.players['A'].points,\n",
    "                #     self.players['D'].showing_card,\n",
    "                #     self.players['A'].usable_ace])\n",
    "\n",
    "                return -1\n",
    "\n",
    "        # print('A',self.players['A'].points,'D',self.players['D'].points)\n",
    "        \n",
    "        # if exited the loop due to infinite sticking\n",
    "\n",
    "        if (self.players['A'].points>self.players['D'].points):\n",
    "            return +1\n",
    "        elif self.players['A'].points==self.players['D'].points:\n",
    "            return 0\n",
    "        else:\n",
    "            return -1\n",
    "            \n"
   ]
  },
  {
   "cell_type": "code",
   "execution_count": 346,
   "metadata": {},
   "outputs": [],
   "source": [
    "def first_visit_MC(state_list,final_reward,   returns = {},num_trials=100000):\n",
    "    k = len(state_list)-1\n",
    "    G = 0\n",
    "    G += final_reward/num_trials\n",
    "    while k>-1:\n",
    "        state = state_list[k]\n",
    "        # print(state)\n",
    "        if '_'.join([str(state[i]) for i in range(0,len(state))]) not in returns:\n",
    "            returns['_'.join([str(state[i]) for i in range(0,len(state))]) ] =0\n",
    "        \n",
    "        if state not in state[:k]:\n",
    "            returns['_'.join([str(state[i]) for i in range(0,len(state))])] += G\n",
    "        k-=1\n",
    "    return returns"
   ]
  },
  {
   "cell_type": "code",
   "execution_count": 356,
   "metadata": {},
   "outputs": [],
   "source": [
    "\n",
    "returns = {}\n",
    "num_trials = 3#100000\n",
    "for _ in range(0,num_trials):\n",
    "    dealer = Dealer()\n",
    "    agent = Agent()\n",
    "    # print('p')\n",
    "    b = blackjack(dealer,agent)\n",
    "    random.seed()\n",
    "\n",
    "    final_reward = b.episode()\n",
    "    episode = b.ep\n",
    "    # print(episode)\n",
    "    results = ['Draw','Win','Lose']\n",
    "    returns = first_visit_MC(episode,final_reward,returns,num_trials)    \n"
   ]
  },
  {
   "cell_type": "code",
   "execution_count": 357,
   "metadata": {},
   "outputs": [
    {
     "data": {
      "text/plain": [
       "{'26_3_False': -0.3333333333333333,\n",
       " '16_3_False': -0.3333333333333333,\n",
       " '11_3_False': -0.3333333333333333,\n",
       " '6_3_False': -0.3333333333333333,\n",
       " '23_7_False': -0.3333333333333333,\n",
       " '13_7_False': -0.3333333333333333,\n",
       " '6_7_False': -0.3333333333333333,\n",
       " '20_10_False': 0.3333333333333333,\n",
       " '20_A_False': 0.3333333333333333,\n",
       " '20_2_False': 1.3333333333333333,\n",
       " '20_7_False': 0.3333333333333333,\n",
       " '11_2_True': 0.3333333333333333}"
      ]
     },
     "execution_count": 357,
     "metadata": {},
     "output_type": "execute_result"
    }
   ],
   "source": [
    "returns"
   ]
  },
  {
   "cell_type": "code",
   "execution_count": 292,
   "metadata": {},
   "outputs": [
    {
     "data": {
      "text/plain": [
       "[[9, '7', False],\n",
       " [15, '7', False],\n",
       " [16, '7', False],\n",
       " [18, '7', False],\n",
       " [28, '7', False]]"
      ]
     },
     "execution_count": 292,
     "metadata": {},
     "output_type": "execute_result"
    }
   ],
   "source": [
    "episode"
   ]
  },
  {
   "cell_type": "code",
   "execution_count": 11,
   "metadata": {},
   "outputs": [
    {
     "data": {
      "text/plain": [
       "{'cards': ['A', '1', '2', '3', '4', '5', '6', '7', '8', '9', '10', 10, 10, 10]}"
      ]
     },
     "execution_count": 11,
     "metadata": {},
     "output_type": "execute_result"
    }
   ],
   "source": [
    "b.__dict__"
   ]
  }
 ],
 "metadata": {
  "kernelspec": {
   "display_name": "pytorch",
   "language": "python",
   "name": "python3"
  },
  "language_info": {
   "codemirror_mode": {
    "name": "ipython",
    "version": 3
   },
   "file_extension": ".py",
   "mimetype": "text/x-python",
   "name": "python",
   "nbconvert_exporter": "python",
   "pygments_lexer": "ipython3",
   "version": "3.10.9"
  }
 },
 "nbformat": 4,
 "nbformat_minor": 2
}
