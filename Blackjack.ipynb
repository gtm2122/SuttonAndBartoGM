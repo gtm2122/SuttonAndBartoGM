{
 "cells": [
  {
   "cell_type": "code",
   "execution_count": 12,
   "metadata": {},
   "outputs": [],
   "source": [
    "import numpy as np\n",
    "import os\n",
    "import random"
   ]
  },
  {
   "cell_type": "code",
   "execution_count": 15,
   "metadata": {},
   "outputs": [
    {
     "data": {
      "text/plain": [
       "5"
      ]
     },
     "execution_count": 15,
     "metadata": {},
     "output_type": "execute_result"
    }
   ],
   "source": [
    "random.randint(a=0,b=10)"
   ]
  },
  {
   "cell_type": "code",
   "execution_count": 16,
   "metadata": {},
   "outputs": [],
   "source": [
    "class agent():\n",
    "    def __init__(self):\n",
    "        self.points = 0\n",
    "    \n",
    "    def action(self):\n",
    "        if self.points<20:\n",
    "            if self.random.random>0.5:\n",
    "                return 'H'\n",
    "            else:\n",
    "                return 'S'\n",
    "        else:\n",
    "            return 'S'\n",
    "\n",
    "\n",
    "class dealer():\n",
    "    def __init__(self):\n",
    "        self.points = 0\n",
    "    \n",
    "    def action(self):\n",
    "        if self.points<17:\n",
    "            return 'H'\n",
    "\n",
    "        else:\n",
    "            return 'S'\n",
    "\n",
    "\n",
    "# class dealer(agent):\n",
    "\n",
    "\n",
    "class blackjack():\n",
    "    def __init__(self,dealer,agent):\n",
    "        self.cards = ['A'] + [str(i) for i in range(2,11)] + ['10']*3\n",
    "        self.game_state = None\n",
    "        self.turn_flag = 0\n",
    "        self.turn = ['P','D']\n",
    "        \n",
    "        self.dealer = dealer\n",
    "        self.agent = agent\n",
    "\n",
    "    def hit(self):\n",
    "        return self.cards[random.randint(0,len(self.cards))]        \n",
    "    # player cards sum, usable ace yes/no, dealer card showing\n",
    "\n",
    "    def stick(self):\n",
    "        self.turn_flag+=1%2\n",
    "        return self.turn[self.turn_flag]\n",
    "    \n",
    "    def episode(self):\n",
    "        T = 30\n",
    "        t = 0\n",
    "        ep = []\n",
    "        while t<T:\n",
    "            t+=1\n",
    "\n"
   ]
  },
  {
   "cell_type": "code",
   "execution_count": 10,
   "metadata": {},
   "outputs": [],
   "source": [
    "b = blackjack()"
   ]
  },
  {
   "cell_type": "code",
   "execution_count": 11,
   "metadata": {},
   "outputs": [
    {
     "data": {
      "text/plain": [
       "{'cards': ['A', '1', '2', '3', '4', '5', '6', '7', '8', '9', '10', 10, 10, 10]}"
      ]
     },
     "execution_count": 11,
     "metadata": {},
     "output_type": "execute_result"
    }
   ],
   "source": [
    "b.__dict__"
   ]
  }
 ],
 "metadata": {
  "kernelspec": {
   "display_name": "pytorch",
   "language": "python",
   "name": "python3"
  },
  "language_info": {
   "codemirror_mode": {
    "name": "ipython",
    "version": 3
   },
   "file_extension": ".py",
   "mimetype": "text/x-python",
   "name": "python",
   "nbconvert_exporter": "python",
   "pygments_lexer": "ipython3",
   "version": "3.10.9"
  }
 },
 "nbformat": 4,
 "nbformat_minor": 2
}
